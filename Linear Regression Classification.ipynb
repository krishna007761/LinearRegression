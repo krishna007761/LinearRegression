{
 "cells": [
  {
   "cell_type": "code",
   "execution_count": 1,
   "id": "e0579921",
   "metadata": {},
   "outputs": [
    {
     "name": "stderr",
     "output_type": "stream",
     "text": [
      "C:\\Users\\HP\\AppData\\Roaming\\Python\\Python310\\site-packages\\pandas\\core\\arrays\\masked.py:60: UserWarning: Pandas requires version '1.3.6' or newer of 'bottleneck' (version '1.3.5' currently installed).\n",
      "  from pandas.core import (\n"
     ]
    }
   ],
   "source": [
    "import pandas as pd\n",
    "import numpy as np\n"
   ]
  },
  {
   "cell_type": "code",
   "execution_count": 2,
   "id": "b90d1a56",
   "metadata": {},
   "outputs": [],
   "source": [
    "data=pd.read_csv(\"Advertising.csv\")"
   ]
  },
  {
   "cell_type": "code",
   "execution_count": 3,
   "id": "edb51008",
   "metadata": {},
   "outputs": [
    {
     "data": {
      "text/html": [
       "<div>\n",
       "<style scoped>\n",
       "    .dataframe tbody tr th:only-of-type {\n",
       "        vertical-align: middle;\n",
       "    }\n",
       "\n",
       "    .dataframe tbody tr th {\n",
       "        vertical-align: top;\n",
       "    }\n",
       "\n",
       "    .dataframe thead th {\n",
       "        text-align: right;\n",
       "    }\n",
       "</style>\n",
       "<table border=\"1\" class=\"dataframe\">\n",
       "  <thead>\n",
       "    <tr style=\"text-align: right;\">\n",
       "      <th></th>\n",
       "      <th>Unnamed: 0</th>\n",
       "      <th>TV</th>\n",
       "      <th>radio</th>\n",
       "      <th>newspaper</th>\n",
       "      <th>sales</th>\n",
       "    </tr>\n",
       "  </thead>\n",
       "  <tbody>\n",
       "    <tr>\n",
       "      <th>0</th>\n",
       "      <td>1</td>\n",
       "      <td>230.1</td>\n",
       "      <td>37.8</td>\n",
       "      <td>69.2</td>\n",
       "      <td>22.1</td>\n",
       "    </tr>\n",
       "    <tr>\n",
       "      <th>1</th>\n",
       "      <td>2</td>\n",
       "      <td>44.5</td>\n",
       "      <td>39.3</td>\n",
       "      <td>45.1</td>\n",
       "      <td>10.4</td>\n",
       "    </tr>\n",
       "    <tr>\n",
       "      <th>2</th>\n",
       "      <td>3</td>\n",
       "      <td>17.2</td>\n",
       "      <td>45.9</td>\n",
       "      <td>69.3</td>\n",
       "      <td>9.3</td>\n",
       "    </tr>\n",
       "    <tr>\n",
       "      <th>3</th>\n",
       "      <td>4</td>\n",
       "      <td>151.5</td>\n",
       "      <td>41.3</td>\n",
       "      <td>58.5</td>\n",
       "      <td>18.5</td>\n",
       "    </tr>\n",
       "    <tr>\n",
       "      <th>4</th>\n",
       "      <td>5</td>\n",
       "      <td>180.8</td>\n",
       "      <td>10.8</td>\n",
       "      <td>58.4</td>\n",
       "      <td>12.9</td>\n",
       "    </tr>\n",
       "  </tbody>\n",
       "</table>\n",
       "</div>"
      ],
      "text/plain": [
       "   Unnamed: 0     TV  radio  newspaper  sales\n",
       "0           1  230.1   37.8       69.2   22.1\n",
       "1           2   44.5   39.3       45.1   10.4\n",
       "2           3   17.2   45.9       69.3    9.3\n",
       "3           4  151.5   41.3       58.5   18.5\n",
       "4           5  180.8   10.8       58.4   12.9"
      ]
     },
     "execution_count": 3,
     "metadata": {},
     "output_type": "execute_result"
    }
   ],
   "source": [
    "data.head()"
   ]
  },
  {
   "cell_type": "code",
   "execution_count": null,
   "id": "d4256f3e",
   "metadata": {},
   "outputs": [],
   "source": [
    "# data volidation\n",
    "data.info()"
   ]
  },
  {
   "cell_type": "code",
   "execution_count": null,
   "id": "e0627081",
   "metadata": {},
   "outputs": [],
   "source": [
    "data.shape"
   ]
  },
  {
   "cell_type": "code",
   "execution_count": null,
   "id": "8e1be453",
   "metadata": {},
   "outputs": [],
   "source": [
    "# Missing value calculation\n",
    "data.shape[0]\n"
   ]
  },
  {
   "cell_type": "code",
   "execution_count": null,
   "id": "2dcfb2a1",
   "metadata": {},
   "outputs": [],
   "source": [
    "# Missing value calculation\n",
    "data.shape[0]- data.count()"
   ]
  },
  {
   "cell_type": "code",
   "execution_count": null,
   "id": "adcf3c35",
   "metadata": {},
   "outputs": [],
   "source": [
    "data.isna().sum()"
   ]
  },
  {
   "cell_type": "code",
   "execution_count": null,
   "id": "442b745a",
   "metadata": {},
   "outputs": [],
   "source": [
    "# typo erros\n",
    "data.columns"
   ]
  },
  {
   "cell_type": "code",
   "execution_count": null,
   "id": "3e890bc8",
   "metadata": {},
   "outputs": [],
   "source": [
    "update_col=['srno', 'tv', 'radio', 'newspaper', 'sales']\n",
    "update_col"
   ]
  },
  {
   "cell_type": "code",
   "execution_count": null,
   "id": "e4d8aebc",
   "metadata": {},
   "outputs": [],
   "source": [
    "data.columns=update_col"
   ]
  },
  {
   "cell_type": "code",
   "execution_count": null,
   "id": "4363f4c9",
   "metadata": {},
   "outputs": [],
   "source": [
    "data.head()"
   ]
  },
  {
   "cell_type": "code",
   "execution_count": null,
   "id": "5f2e447d",
   "metadata": {},
   "outputs": [],
   "source": [
    "# BOX PLOT"
   ]
  },
  {
   "cell_type": "code",
   "execution_count": null,
   "id": "7e62aaba",
   "metadata": {},
   "outputs": [],
   "source": [
    "import matplotlib.pyplot as plt\n",
    "import seaborn as sns"
   ]
  },
  {
   "cell_type": "code",
   "execution_count": null,
   "id": "4029a113",
   "metadata": {},
   "outputs": [],
   "source": [
    "import warnings\n",
    "warnings.filterwarnings(\"ignore\")"
   ]
  },
  {
   "cell_type": "code",
   "execution_count": null,
   "id": "9120e28e",
   "metadata": {},
   "outputs": [],
   "source": [
    "plt.figure(figsize=(8,8))\n",
    "data.plot(kind=\"box\")\n",
    "plt.ylabel(\"Values\")\n",
    "plt.tight_layout()\n",
    "plt.title(f\"Box plot of Dataset\")\n",
    "plt.grid()\n",
    "plt.show()"
   ]
  },
  {
   "cell_type": "code",
   "execution_count": null,
   "id": "3dc70003",
   "metadata": {},
   "outputs": [],
   "source": [
    "number = 50\n",
    "print(number)"
   ]
  },
  {
   "cell_type": "code",
   "execution_count": null,
   "id": "a15ed701",
   "metadata": {},
   "outputs": [],
   "source": [
    "print(\"number\",number)"
   ]
  },
  {
   "cell_type": "code",
   "execution_count": null,
   "id": "649586ff",
   "metadata": {},
   "outputs": [],
   "source": [
    "print(f\"number is {number} my lucky  number is {number}\")"
   ]
  },
  {
   "cell_type": "code",
   "execution_count": null,
   "id": "6702c3da",
   "metadata": {},
   "outputs": [],
   "source": [
    "# remove outliers\n",
    "data[\"newspaper\"]"
   ]
  },
  {
   "cell_type": "code",
   "execution_count": null,
   "id": "584d7be2",
   "metadata": {},
   "outputs": [],
   "source": [
    "data[\"newspaper\"]"
   ]
  },
  {
   "cell_type": "code",
   "execution_count": null,
   "id": "58443e06",
   "metadata": {},
   "outputs": [],
   "source": [
    "upper_accepatble_value=data[\"newspaper\"].quantile(0.99)\n",
    "print(f\"upper_accepatble_value {upper_accepatble_value}\")\n",
    "data[data[\"newspaper\"]>upper_accepatble_value]"
   ]
  },
  {
   "cell_type": "code",
   "execution_count": null,
   "id": "4feecaf7",
   "metadata": {},
   "outputs": [],
   "source": [
    "md=data[\"newspaper\"].median()\n",
    "print(f\"median value of newspaper is {md}\")\n",
    "data.loc[data[\"newspaper\"]>upper_accepatble_value]=md"
   ]
  },
  {
   "cell_type": "code",
   "execution_count": null,
   "id": "4e4d21c7",
   "metadata": {},
   "outputs": [],
   "source": [
    "data[data[\"newspaper\"]>upper_accepatble_value]"
   ]
  },
  {
   "cell_type": "code",
   "execution_count": null,
   "id": "b3591a2d",
   "metadata": {},
   "outputs": [],
   "source": [
    "plt.figure(figsize=(8,8))\n",
    "data[\"newspaper\"].plot(kind=\"box\")\n",
    "plt.ylabel(\"Values\")\n",
    "plt.tight_layout()\n",
    "plt.title(f\"Box plot of newspaper\")\n",
    "plt.grid()\n",
    "plt.show()"
   ]
  },
  {
   "cell_type": "code",
   "execution_count": null,
   "id": "5f943206",
   "metadata": {},
   "outputs": [],
   "source": [
    "Meet_corr=data.corr()\n",
    "Meet_corr"
   ]
  },
  {
   "cell_type": "code",
   "execution_count": null,
   "id": "1eca66e9",
   "metadata": {},
   "outputs": [],
   "source": [
    "plt.figure(figsize=(8,8))\n",
    "sns.heatmap(Meet_corr,annot=True)\n",
    "plt.tight_layout()\n",
    "plt.title(f\"Heat Map Graph\")\n",
    "plt.grid()\n",
    "plt.show()"
   ]
  },
  {
   "cell_type": "code",
   "execution_count": null,
   "id": "942d1983",
   "metadata": {},
   "outputs": [],
   "source": [
    "data.head()"
   ]
  },
  {
   "cell_type": "code",
   "execution_count": null,
   "id": "4954c250",
   "metadata": {},
   "outputs": [],
   "source": [
    "x=data.drop([\"srno\",\"sales\"],axis=1)\n",
    "x"
   ]
  },
  {
   "cell_type": "code",
   "execution_count": null,
   "id": "b10093f8",
   "metadata": {},
   "outputs": [],
   "source": [
    "y=data[\"sales\"]\n",
    "y"
   ]
  },
  {
   "cell_type": "code",
   "execution_count": null,
   "id": "224bb7db",
   "metadata": {},
   "outputs": [],
   "source": [
    "from sklearn.model_selection import train_test_split"
   ]
  },
  {
   "cell_type": "code",
   "execution_count": null,
   "id": "18eddc87",
   "metadata": {},
   "outputs": [],
   "source": [
    "x_train,x_test,y_train,y_test=train_test_split(x,y,test_size=0.2,random_state=123,shuffle=True)\n",
    "print(f\"x training {x_train.shape}\")\n",
    "print(f\"y training {y_train.shape}\")\n",
    "print(f\"x testing {x_test.shape}\")\n",
    "print(f\"y testing {y_test.shape}\")"
   ]
  },
  {
   "cell_type": "code",
   "execution_count": null,
   "id": "90c2699b",
   "metadata": {},
   "outputs": [],
   "source": [
    "from sklearn.linear_model import LinearRegression\n",
    "from sklearn.tree import DecisionTreeRegressor\n",
    "from sklearn.ensemble import RandomForestRegressor\n",
    "from sklearn.metrics import mean_squared_error\n",
    "from math import sqrt\n",
    "from sklearn.metrics import r2_score"
   ]
  },
  {
   "cell_type": "code",
   "execution_count": null,
   "id": "9681f1c3",
   "metadata": {},
   "outputs": [],
   "source": [
    "select_model=[LinearRegression(),\n",
    "              DecisionTreeRegressor(max_depth=4,min_samples_split=30,min_samples_leaf=3),\n",
    "              RandomForestRegressor(n_estimators=20,max_depth=4,min_samples_split=30,min_samples_leaf=3)]"
   ]
  },
  {
   "cell_type": "code",
   "execution_count": null,
   "id": "43868f92",
   "metadata": {},
   "outputs": [],
   "source": [
    "my_rmse=[]\n",
    "my_r_square=[]\n",
    "for model in select_model:\n",
    "    model.fit(x_train,y_train)\n",
    "    y_pred=model.predict(x_test)\n",
    "    rmse=sqrt(mean_squared_error(y_pred,y_test))\n",
    "    my_rmse.append(rmse)\n",
    "    r_sq=r2_score(y_pred,y_test)\n",
    "    my_r_square.append(r_sq)\n",
    "    print(f\"RMSE value {my_rmse} and R Squared value {my_r_square} of model{model}\")\n",
    "    "
   ]
  },
  {
   "cell_type": "code",
   "execution_count": null,
   "id": "3b525a43",
   "metadata": {},
   "outputs": [],
   "source": [
    "result=[my_rmse,my_r_square]\n",
    "result"
   ]
  },
  {
   "cell_type": "code",
   "execution_count": null,
   "id": "8055d048",
   "metadata": {},
   "outputs": [],
   "source": [
    "pd.DataFrame(data=result,columns=[\"LR\",\"DTC\",\"RF\"],index=[\"rmse\",\"R Square\"])"
   ]
  },
  {
   "cell_type": "code",
   "execution_count": null,
   "id": "d01c4393",
   "metadata": {},
   "outputs": [],
   "source": [
    "rf= RandomForestRegressor(n_estimators=20,max_depth=4,min_samples_split=30,min_samples_leaf=3)\n",
    "rf"
   ]
  },
  {
   "cell_type": "code",
   "execution_count": null,
   "id": "6351acca",
   "metadata": {},
   "outputs": [],
   "source": [
    "param_grid = {\n",
    "    'n_estimators' : [100,250,300,350], # number of tree in the forest\n",
    "    'max_depth' : [None,10,20,30], # Max(mum depth of be tree\n",
    "    'min_samples_split' : [2,5,10], # Minimum number of sample requires to split an internal node\n",
    "    'min_samples_leaf' : [1,2,4], # Minimum number of samples requires to be at a leaf node\n",
    "}"
   ]
  },
  {
   "cell_type": "code",
   "execution_count": null,
   "id": "064113aa",
   "metadata": {},
   "outputs": [],
   "source": [
    "from sklearn.model_selection import GridSearchCV\n",
    "grid_search = GridSearchCV(estimator=rf,param_grid=param_grid,n_jobs=-1)\n",
    "# n_jobs = -1 for faster computation / parallizations\n",
    "\n",
    "#fit the model with differen hyper parameters combinations\n",
    "grid_search.fit(x_train,y_train)\n",
    "\n",
    "#get the best hyperparameters\n",
    "best_params = grid_search.best_params_\n",
    "best_model = grid_search.best_estimator_\n",
    "\n"
   ]
  },
  {
   "cell_type": "code",
   "execution_count": null,
   "id": "446ba12a",
   "metadata": {},
   "outputs": [],
   "source": [
    "best_params"
   ]
  },
  {
   "cell_type": "markdown",
   "id": "7a128200",
   "metadata": {},
   "source": [
    "# Random hyper Parameters\n",
    " 1.DecisionTreeRegressor(max_depth=4,min_samples_split=30,min_samples_leaf=3),\n",
    " 2.RandomForestRegressor(n_estimators=20,max_depth=4,min_samples_split=30,min_samples_leaf=3)]"
   ]
  },
  {
   "attachments": {
    "image.png": {
     "image/png": "[encoded data removed]"
    }
   },
   "cell_type": "markdown",
   "id": "69cb5cba",
   "metadata": {},
   "source": [
    "![image.png](attachment:image.png)\n"
   ]
  },
  {
   "cell_type": "markdown",
   "id": "f6c3b0ab",
   "metadata": {},
   "source": [
    "# Grid Search Hyper Parametrs\n",
    "1.DecisionTreeRegressor(max_depth=10,min_samples_leaf=2,min_samples_split=5), \n",
    "2.RandomForestRegressor(max_depth=10,min_samples_leaf=2,min_samples_split=5,n_estimators=100)"
   ]
  },
  {
   "attachments": {
    "image.png": {
     "image/png": "[encoded data removed]"
    }
   },
   "cell_type": "markdown",
   "id": "56421589",
   "metadata": {},
   "source": [
    "![image.png](attachment:image.png)"
   ]
  },
  {
   "cell_type": "code",
   "execution_count": null,
   "id": "126ab566",
   "metadata": {},
   "outputs": [],
   "source": []
  }
 ],
 "metadata": {
  "kernelspec": {
   "display_name": "Python 3 (ipykernel)",
   "language": "python",
   "name": "python3"
  },
  "language_info": {
   "codemirror_mode": {
    "name": "ipython",
    "version": 3
   },
   "file_extension": ".py",
   "mimetype": "text/x-python",
   "name": "python",
   "nbconvert_exporter": "python",
   "pygments_lexer": "ipython3",
   "version": "3.10.9"
  }
 },
 "nbformat": 4,
 "nbformat_minor": 5
}
